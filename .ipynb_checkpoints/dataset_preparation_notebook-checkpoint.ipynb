{
 "cells": [
  {
   "cell_type": "markdown",
   "id": "840891d7-5bed-4432-9309-5726a9e93724",
   "metadata": {},
   "source": [
    "**Import the Libararies**"
   ]
  },
  {
   "cell_type": "code",
   "execution_count": 1,
   "id": "84f50f91",
   "metadata": {},
   "outputs": [],
   "source": [
    "import pandas as pd\n",
    "import os"
   ]
  },
  {
   "cell_type": "code",
   "execution_count": 2,
   "id": "e997d1f7-449d-49d3-ace3-93142265398e",
   "metadata": {},
   "outputs": [],
   "source": [
    "csv_file_path = 'tasks.csv'"
   ]
  },
  {
   "cell_type": "code",
   "execution_count": 7,
   "id": "6b188fd8-60a6-4be5-9104-dd6f0fd2b9f5",
   "metadata": {},
   "outputs": [],
   "source": [
    "sections_data = {\n",
    "    \"Vehicle Registration\": [\n",
    "        \"Register new motor vehicles and issue registration numbers.\",\n",
    "        \"Process the transfer of vehicle ownership.\"\n",
    "    ],\n",
    "    \"Driver Licensing\": [\n",
    "        \"Conduct theoretical and practical examinations for new driver's licenses.\",\n",
    "        \"Process the renewal and reissue of driving licenses.\"\n",
    "    ],\n",
    "    \"Vehicle Licensing & Revenue\": [\n",
    "        \"Issue annual revenue licenses for all types of vehicles.\",\n",
    "        \"Collect road taxes and other government levies on vehicles.\"\n",
    "    ],\n",
    "    \"Technical Inspection & Fitness\": [\n",
    "        \"Conduct vehicle inspections for roadworthiness and emissions.\",\n",
    "        \"Maintain records of vehicle modifications and certifications.\"\n",
    "    ],\n",
    "    \"Public Information & Services\": [\n",
    "        \"Provide access to online services for license and registration checks.\",\n",
    "        \"Manage public inquiries and complaints related to traffic regulations.\"\n",
    "    ],\n",
    "    \"Road Safety & Law Enforcement\": [\n",
    "        \"Collaborate with law enforcement on vehicle-related legal matters.\",\n",
    "        \"Maintain a database of traffic violations and demerit points for drivers.\"\n",
    "    ]\n",
    "}\n"
   ]
  },
  {
   "cell_type": "code",
   "execution_count": 8,
   "id": "057b992a-d00e-4543-a786-ce6eb6abb003",
   "metadata": {},
   "outputs": [],
   "source": [
    "all_task_names = []\n",
    "all_section_names = []"
   ]
  },
  {
   "cell_type": "code",
   "execution_count": 9,
   "id": "00d9c1c4-8d38-4909-9925-85b4aee13470",
   "metadata": {},
   "outputs": [],
   "source": [
    "for section, tasks in sections_data.items():\n",
    "    for task in tasks:\n",
    "        all_task_names.append(task)\n",
    "        all_section_names.append(section)"
   ]
  },
  {
   "cell_type": "code",
   "execution_count": 10,
   "id": "9b01b3bf-87a5-413b-864f-d5fbe3a3f9a4",
   "metadata": {},
   "outputs": [
    {
     "ename": "IndentationError",
     "evalue": "unexpected indent (3781572470.py, line 2)",
     "output_type": "error",
     "traceback": [
      "  \u001b[36mCell\u001b[39m\u001b[36m \u001b[39m\u001b[32mIn[10]\u001b[39m\u001b[32m, line 2\u001b[39m\n\u001b[31m    \u001b[39m\u001b[31mdf = pd.read_csv(csv_file_path)\u001b[39m\n    ^\n\u001b[31mIndentationError\u001b[39m\u001b[31m:\u001b[39m unexpected indent\n"
     ]
    }
   ],
   "source": [
    "# Load the CSV file into a pandas DataFrame\n",
    "df = pd.read_csv(csv_file_path)\n",
    "\n",
    "# Check if the number of tasks matches the number of rows in the CSV\n",
    "if len(all_task_names) == len(df):\n",
    "    # Populate the empty columns\n",
    "    df['task_name'] = all_task_names\n",
    "    df['section_name'] = all_section_names\n",
    "\n",
    "    # --- Step 6: Save the updated DataFrame back to the CSV file ---\n",
    "    # The `index=False` argument prevents pandas from writing a new index column.\n",
    "    df.to_csv(csv_file_path, index=False)\n",
    "    \n",
    "    print(f\"\\nSuccessfully updated '{csv_file_path}' with new data.\")\n",
    "    print(\"\\n--- Updated Data Preview ---\")\n",
    "    print(df.head()) # Display the first 5 rows of the updated file\n",
    "    print(\"...\")\n",
    "    print(df.tail()) # Display the last 5 rows\n",
    "    \n",
    "else:\n",
    "    print(f\"Error: The number of tasks ({len(all_task_names)}) does not match the number of rows in the CSV ({len(df)}).\")"
   ]
  },
  {
   "cell_type": "code",
   "execution_count": null,
   "id": "ee8a1e79-e64f-46df-a305-2ccc2b28b5f6",
   "metadata": {},
   "outputs": [],
   "source": []
  },
  {
   "cell_type": "code",
   "execution_count": null,
   "id": "94aa010c-d032-49d4-b1ee-d0ea96d879aa",
   "metadata": {},
   "outputs": [],
   "source": []
  },
  {
   "cell_type": "code",
   "execution_count": null,
   "id": "a631c7f0-3fc5-4765-bd98-c6107ddaa9d3",
   "metadata": {},
   "outputs": [],
   "source": []
  },
  {
   "cell_type": "code",
   "execution_count": null,
   "id": "5a08fd5d-df7f-4920-86e1-34109a9a8c6a",
   "metadata": {},
   "outputs": [],
   "source": []
  },
  {
   "cell_type": "code",
   "execution_count": null,
   "id": "90f6a45f-aa21-40f8-8655-4ec0e7380c73",
   "metadata": {},
   "outputs": [],
   "source": []
  }
 ],
 "metadata": {
  "kernelspec": {
   "display_name": "Python 3 (ipykernel)",
   "language": "python",
   "name": "python3"
  },
  "language_info": {
   "codemirror_mode": {
    "name": "ipython",
    "version": 3
   },
   "file_extension": ".py",
   "mimetype": "text/x-python",
   "name": "python",
   "nbconvert_exporter": "python",
   "pygments_lexer": "ipython3",
   "version": "3.13.5"
  }
 },
 "nbformat": 4,
 "nbformat_minor": 5
}
