{
  "cells": [
    {
      "cell_type": "markdown",
      "id": "840891d7-5bed-4432-9309-5726a9e93724",
      "metadata": {
        "id": "840891d7-5bed-4432-9309-5726a9e93724"
      },
      "source": [
        "**Import the Libararies**"
      ]
    },
    {
      "cell_type": "code",
      "execution_count": null,
      "id": "84f50f91",
      "metadata": {
        "id": "84f50f91"
      },
      "outputs": [],
      "source": [
        "import os"
      ]
    },
    {
      "cell_type": "code",
      "execution_count": null,
      "id": "e997d1f7-449d-49d3-ace3-93142265398e",
      "metadata": {
        "id": "e997d1f7-449d-49d3-ace3-93142265398e"
      },
      "outputs": [],
      "source": [
        "csv_file_path = 'dataset/tasks.csv'"
      ]
    },
    {
      "cell_type": "code",
      "execution_count": null,
      "id": "6b188fd8-60a6-4be5-9104-dd6f0fd2b9f5",
      "metadata": {
        "id": "6b188fd8-60a6-4be5-9104-dd6f0fd2b9f5"
      },
      "outputs": [],
      "source": [
        "sections_data = {\n",
        "    \"Vehicle Registration\": [\n",
        "        \"Register new motor vehicles and issue registration numbers.\",\n",
        "        \"Process the transfer of vehicle ownership.\"\n",
        "    ],\n",
        "    \"Driver Licensing\": [\n",
        "        \"Conduct theoretical and practical examinations for new driver's licenses.\",\n",
        "        \"Process the renewal and reissue of driving licenses.\",\n",
        "        \"Issue international driving permits.\",\n",
        "        \"Manage license endorsements for different vehicle classes.\"\n",
        "    ],\n",
        "    \"Vehicle Licensing & Revenue\": [\n",
        "        \"Issue annual revenue licenses for all types of vehicles.\",\n",
        "        \"Collect road taxes and other government levies on vehicles.\",\n",
        "        \"Process refunds for overpaid taxes or surrendered licenses.\"\n",
        "    ],\n",
        "    \"Technical Inspection & Fitness\": [\n",
        "        \"Conduct vehicle inspections for roadworthiness and emissions.\",\n",
        "        \"Maintain records of vehicle modifications and certifications.\",\n",
        "        \"Issue vehicle fitness certificates (VFC) for commercial vehicles.\"\n",
        "    ],\n",
        "    \"Public Information & Services\": [\n",
        "        \"Provide access to online services for license and registration checks.\",\n",
        "        \"Manage public inquiries and complaints related to traffic regulations.\",\n",
        "        \"Publish reports and statistics on vehicle registrations.\"\n",
        "    ],\n",
        "    \"Road Safety & Law Enforcement\": [\n",
        "        \"Collaborate with law enforcement on vehicle-related legal matters.\",\n",
        "        \"Maintain a database of traffic violations and demerit points for drivers.\",\n",
        "        \"Develop and implement road safety awareness campaigns.\",\n",
        "        \"Manage the suspension and revocation of driving licenses.\"\n",
        "    ]\n",
        "}"
      ]
    },
    {
      "cell_type": "code",
      "execution_count": null,
      "id": "057b992a-d00e-4543-a786-ce6eb6abb003",
      "metadata": {
        "id": "057b992a-d00e-4543-a786-ce6eb6abb003"
      },
      "outputs": [],
      "source": [
        "all_task_names = []\n",
        "all_section_names = []"
      ]
    },
    {
      "cell_type": "code",
      "execution_count": null,
      "id": "00d9c1c4-8d38-4909-9925-85b4aee13470",
      "metadata": {
        "id": "00d9c1c4-8d38-4909-9925-85b4aee13470"
      },
      "outputs": [],
      "source": [
        "for section, tasks in sections_data.items():\n",
        "    for task in tasks:\n",
        "        all_task_names.append(task)\n",
        "        all_section_names.append(section)"
      ]
    },
    {
      "cell_type": "code",
      "execution_count": null,
      "id": "297bae54-952d-4c2d-b416-d9b13778b62d",
      "metadata": {
        "id": "297bae54-952d-4c2d-b416-d9b13778b62d",
        "outputId": "d886274d-255f-4b35-ffe4-cd6a89a0882e"
      },
      "outputs": [
        {
          "data": {
            "text/plain": [
              "['Register new motor vehicles and issue registration numbers.',\n",
              " 'Process the transfer of vehicle ownership.',\n",
              " \"Conduct theoretical and practical examinations for new driver's licenses.\",\n",
              " 'Process the renewal and reissue of driving licenses.',\n",
              " 'Issue international driving permits.',\n",
              " 'Manage license endorsements for different vehicle classes.',\n",
              " 'Issue annual revenue licenses for all types of vehicles.',\n",
              " 'Collect road taxes and other government levies on vehicles.',\n",
              " 'Process refunds for overpaid taxes or surrendered licenses.',\n",
              " 'Conduct vehicle inspections for roadworthiness and emissions.',\n",
              " 'Maintain records of vehicle modifications and certifications.',\n",
              " 'Issue vehicle fitness certificates (VFC) for commercial vehicles.',\n",
              " 'Provide access to online services for license and registration checks.',\n",
              " 'Manage public inquiries and complaints related to traffic regulations.',\n",
              " 'Publish reports and statistics on vehicle registrations.',\n",
              " 'Collaborate with law enforcement on vehicle-related legal matters.',\n",
              " 'Maintain a database of traffic violations and demerit points for drivers.',\n",
              " 'Develop and implement road safety awareness campaigns.',\n",
              " 'Manage the suspension and revocation of driving licenses.']"
            ]
          },
          "execution_count": 28,
          "metadata": {},
          "output_type": "execute_result"
        }
      ],
      "source": [
        "all_task_names"
      ]
    },
    {
      "cell_type": "code",
      "execution_count": null,
      "id": "bef2ea69-bcf9-4a9e-9c1a-1dbd6fac8a40",
      "metadata": {
        "id": "bef2ea69-bcf9-4a9e-9c1a-1dbd6fac8a40",
        "outputId": "f46a7636-803b-44b9-90b9-179a007c0edc"
      },
      "outputs": [
        {
          "data": {
            "text/plain": [
              "['Vehicle Registration',\n",
              " 'Vehicle Registration',\n",
              " 'Driver Licensing',\n",
              " 'Driver Licensing',\n",
              " 'Driver Licensing',\n",
              " 'Driver Licensing',\n",
              " 'Vehicle Licensing & Revenue',\n",
              " 'Vehicle Licensing & Revenue',\n",
              " 'Vehicle Licensing & Revenue',\n",
              " 'Technical Inspection & Fitness',\n",
              " 'Technical Inspection & Fitness',\n",
              " 'Technical Inspection & Fitness',\n",
              " 'Public Information & Services',\n",
              " 'Public Information & Services',\n",
              " 'Public Information & Services',\n",
              " 'Road Safety & Law Enforcement',\n",
              " 'Road Safety & Law Enforcement',\n",
              " 'Road Safety & Law Enforcement',\n",
              " 'Road Safety & Law Enforcement']"
            ]
          },
          "execution_count": 29,
          "metadata": {},
          "output_type": "execute_result"
        }
      ],
      "source": [
        "all_section_names"
      ]
    },
    {
      "cell_type": "code",
      "execution_count": null,
      "id": "9b01b3bf-87a5-413b-864f-d5fbe3a3f9a4",
      "metadata": {
        "id": "9b01b3bf-87a5-413b-864f-d5fbe3a3f9a4",
        "outputId": "b0460e16-6e24-4ea0-d2bf-a914e01819f1"
      },
      "outputs": [
        {
          "name": "stdout",
          "output_type": "stream",
          "text": [
            "\n",
            "Successfully updated 'dataset/tasks.csv' with new data.\n",
            "\n",
            "--- Updated Data Preview ---\n",
            "    task_id                                          task_name section_id  \\\n",
            "0  TASK-001  Register new motor vehicles and issue registra...    SEC-001   \n",
            "1  TASK-002         Process the transfer of vehicle ownership.    SEC-001   \n",
            "2  TASK-003  Conduct theoretical and practical examinations...    SEC-002   \n",
            "3  TASK-004  Process the renewal and reissue of driving lic...    SEC-002   \n",
            "4  TASK-005               Issue international driving permits.    SEC-002   \n",
            "\n",
            "           section_name  \n",
            "0  Vehicle Registration  \n",
            "1  Vehicle Registration  \n",
            "2      Driver Licensing  \n",
            "3      Driver Licensing  \n",
            "4      Driver Licensing  \n",
            "...\n",
            "     task_id                                          task_name section_id  \\\n",
            "14  TASK-015  Publish reports and statistics on vehicle regi...    SEC-005   \n",
            "15  TASK-016  Collaborate with law enforcement on vehicle-re...    SEC-006   \n",
            "16  TASK-017  Maintain a database of traffic violations and ...    SEC-006   \n",
            "17  TASK-018  Develop and implement road safety awareness ca...    SEC-006   \n",
            "18  TASK-019  Manage the suspension and revocation of drivin...    SEC-006   \n",
            "\n",
            "                     section_name  \n",
            "14  Public Information & Services  \n",
            "15  Road Safety & Law Enforcement  \n",
            "16  Road Safety & Law Enforcement  \n",
            "17  Road Safety & Law Enforcement  \n",
            "18  Road Safety & Law Enforcement  \n"
          ]
        }
      ],
      "source": [
        "# Load the CSV file into a pandas DataFrame\n",
        "df = pd.read_csv(csv_file_path)\n",
        "\n",
        "# Check if the number of tasks matches the number of rows in the CSV\n",
        "if len(all_task_names) == len(df):\n",
        "    # Populate the empty columns\n",
        "    df['task_name'] = all_task_names\n",
        "    df['section_name'] = all_section_names\n",
        "\n",
        "    # --- Step 6: Save the updated DataFrame back to the CSV file ---\n",
        "    # The `index=False` argument prevents pandas from writing a new index column.\n",
        "    df.to_csv(csv_file_path, index=False)\n",
        "\n",
        "    print(f\"\\nSuccessfully updated '{csv_file_path}' with new data.\")\n",
        "    print(\"\\n--- Updated Data Preview ---\")\n",
        "    print(df.head()) # Display the first 5 rows of the updated file\n",
        "    print(\"...\")\n",
        "    print(df.tail()) # Display the last 5 rows\n",
        "\n",
        "else:\n",
        "    print(f\"Error: The number of tasks ({len(all_task_names)}) does not match the number of rows in the CSV ({len(df)}).\")"
      ]
    },
    {
      "cell_type": "code",
      "execution_count": null,
      "id": "ee8a1e79-e64f-46df-a305-2ccc2b28b5f6",
      "metadata": {
        "id": "ee8a1e79-e64f-46df-a305-2ccc2b28b5f6"
      },
      "outputs": [],
      "source": []
    },
    {
      "cell_type": "code",
      "execution_count": null,
      "id": "94aa010c-d032-49d4-b1ee-d0ea96d879aa",
      "metadata": {
        "id": "94aa010c-d032-49d4-b1ee-d0ea96d879aa"
      },
      "outputs": [],
      "source": []
    },
    {
      "cell_type": "code",
      "execution_count": null,
      "id": "a631c7f0-3fc5-4765-bd98-c6107ddaa9d3",
      "metadata": {
        "id": "a631c7f0-3fc5-4765-bd98-c6107ddaa9d3"
      },
      "outputs": [],
      "source": []
    },
    {
      "cell_type": "code",
      "execution_count": null,
      "id": "5a08fd5d-df7f-4920-86e1-34109a9a8c6a",
      "metadata": {
        "id": "5a08fd5d-df7f-4920-86e1-34109a9a8c6a"
      },
      "outputs": [],
      "source": []
    },
    {
      "cell_type": "code",
      "execution_count": null,
      "id": "90f6a45f-aa21-40f8-8655-4ec0e7380c73",
      "metadata": {
        "id": "90f6a45f-aa21-40f8-8655-4ec0e7380c73"
      },
      "outputs": [],
      "source": []
    }
  ],
  "metadata": {
    "kernelspec": {
      "display_name": "Python 3 (ipykernel)",
      "language": "python",
      "name": "python3"
    },
    "language_info": {
      "codemirror_mode": {
        "name": "ipython",
        "version": 3
      },
      "file_extension": ".py",
      "mimetype": "text/x-python",
      "name": "python",
      "nbconvert_exporter": "python",
      "pygments_lexer": "ipython3",
      "version": "3.13.5"
    },
    "colab": {
      "provenance": []
    }
  },
  "nbformat": 4,
  "nbformat_minor": 5
}